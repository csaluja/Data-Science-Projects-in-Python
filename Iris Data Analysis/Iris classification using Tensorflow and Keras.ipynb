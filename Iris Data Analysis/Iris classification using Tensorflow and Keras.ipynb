{
 "cells": [
  {
   "cell_type": "markdown",
   "metadata": {},
   "source": [
    "<b>A Simple Neural Network in Keras and TensorFlow to classify the Iris Dataset<b>"
   ]
  },
  {
   "cell_type": "code",
   "execution_count": 125,
   "metadata": {},
   "outputs": [],
   "source": [
    "#making required imports\n",
    "import tensorflow as tf\n",
    "from tensorflow import keras\n",
    "import numpy as np\n",
    "import matplotlib.pyplot as plt\n",
    "import pandas as pd\n",
    "from sklearn.model_selection import train_test_split\n",
    "%matplotlib inline"
   ]
  },
  {
   "cell_type": "code",
   "execution_count": 126,
   "metadata": {},
   "outputs": [],
   "source": [
    "#Loading the Iris dataset\n",
    "url = \"https://archive.ics.uci.edu/ml/machine-learning-databases/iris/iris.data\"\n",
    "names = ['sepal-length', 'sepal-width', 'petal-length', 'petal-width', 'class']\n",
    "iris = pd.read_csv(url, names=names)"
   ]
  },
  {
   "cell_type": "code",
   "execution_count": 127,
   "metadata": {},
   "outputs": [
    {
     "name": "stdout",
     "output_type": "stream",
     "text": [
      "<class 'pandas.core.frame.DataFrame'>\n",
      "(150, 5)\n"
     ]
    }
   ],
   "source": [
    "print(type(iris))\n",
    "print(iris.shape)"
   ]
  },
  {
   "cell_type": "code",
   "execution_count": 128,
   "metadata": {},
   "outputs": [
    {
     "data": {
      "text/plain": [
       "array(['Iris-setosa', 'Iris-versicolor', 'Iris-virginica'], dtype=object)"
      ]
     },
     "execution_count": 128,
     "metadata": {},
     "output_type": "execute_result"
    }
   ],
   "source": [
    "#checking unique values for labels\n",
    "iris['class'].unique()"
   ]
  },
  {
   "cell_type": "code",
   "execution_count": 129,
   "metadata": {
    "collapsed": true
   },
   "outputs": [],
   "source": [
    "#encoding categorical labels to numeric (0,1,2)\n",
    "iris['class'] = iris['class'].map({'Iris-setosa':0, 'Iris-versicolor':1,'Iris-virginica':2}) "
   ]
  },
  {
   "cell_type": "code",
   "execution_count": 130,
   "metadata": {},
   "outputs": [
    {
     "data": {
      "text/plain": [
       "array([0, 1, 2], dtype=int64)"
      ]
     },
     "execution_count": 130,
     "metadata": {},
     "output_type": "execute_result"
    }
   ],
   "source": [
    "iris['class'].unique()"
   ]
  },
  {
   "cell_type": "code",
   "execution_count": 131,
   "metadata": {
    "collapsed": true
   },
   "outputs": [],
   "source": [
    "#separate class labels from features\n",
    "labels = iris['class'].copy()\n",
    "iris.drop(labels=['class'], inplace=True, axis=1)"
   ]
  },
  {
   "cell_type": "code",
   "execution_count": 132,
   "metadata": {},
   "outputs": [],
   "source": [
    "#split the dataset into train and test sets\n",
    "train_data, test_data, train_labels, test_labels = train_test_split(iris, labels, test_size=0.20, shuffle=True)"
   ]
  },
  {
   "cell_type": "code",
   "execution_count": 133,
   "metadata": {},
   "outputs": [
    {
     "name": "stdout",
     "output_type": "stream",
     "text": [
      "(120, 4) (120,)\n",
      "(30, 4) (30,)\n"
     ]
    }
   ],
   "source": [
    "#checking datasets' shapes\n",
    "print(train_data.shape, train_labels.shape)\n",
    "print(test_data.shape,test_labels.shape)"
   ]
  },
  {
   "cell_type": "code",
   "execution_count": 134,
   "metadata": {},
   "outputs": [],
   "source": [
    "#building up neural network model\n",
    "#setting up layers\n",
    "model = keras.Sequential([\n",
    "    \n",
    "    keras.layers.Dense(64, input_shape = (4,), activation=tf.nn.relu),\n",
    "    keras.layers.Dense(128, activation=tf.nn.relu),\n",
    "    keras.layers.Dense(3, activation=tf.nn.softmax)\n",
    "])"
   ]
  },
  {
   "cell_type": "code",
   "execution_count": 150,
   "metadata": {},
   "outputs": [
    {
     "name": "stdout",
     "output_type": "stream",
     "text": [
      "_________________________________________________________________\n",
      "Layer (type)                 Output Shape              Param #   \n",
      "=================================================================\n",
      "dense_27 (Dense)             (None, 64)                320       \n",
      "_________________________________________________________________\n",
      "dense_28 (Dense)             (None, 128)               8320      \n",
      "_________________________________________________________________\n",
      "dense_29 (Dense)             (None, 3)                 387       \n",
      "=================================================================\n",
      "Total params: 9,027\n",
      "Trainable params: 9,027\n",
      "Non-trainable params: 0\n",
      "_________________________________________________________________\n",
      "None\n"
     ]
    }
   ],
   "source": [
    "#compiling the model\n",
    "model.compile(optimizer=tf.train.AdamOptimizer(), \n",
    "              loss='sparse_categorical_crossentropy',\n",
    "              metrics=['accuracy'])\n",
    "print(model.summary())"
   ]
  },
  {
   "cell_type": "code",
   "execution_count": 151,
   "metadata": {},
   "outputs": [
    {
     "name": "stdout",
     "output_type": "stream",
     "text": [
      "Epoch 1/10\n",
      "120/120 [==============================] - 2s 13ms/step - loss: 0.0790 - acc: 0.9750\n",
      "Epoch 2/10\n",
      "120/120 [==============================] - 0s 667us/step - loss: 0.0798 - acc: 0.9667\n",
      "Epoch 3/10\n",
      "120/120 [==============================] - 0s 750us/step - loss: 0.0771 - acc: 0.9750\n",
      "Epoch 4/10\n",
      "120/120 [==============================] - 0s 417us/step - loss: 0.0793 - acc: 0.9750\n",
      "Epoch 5/10\n",
      "120/120 [==============================] - 0s 417us/step - loss: 0.0849 - acc: 0.9750\n",
      "Epoch 6/10\n",
      "120/120 [==============================] - 0s 500us/step - loss: 0.0786 - acc: 0.9750\n",
      "Epoch 7/10\n",
      "120/120 [==============================] - 0s 600us/step - loss: 0.0921 - acc: 0.9583\n",
      "Epoch 8/10\n",
      "120/120 [==============================] - 0s 417us/step - loss: 0.0737 - acc: 0.9750\n",
      "Epoch 9/10\n",
      "120/120 [==============================] - 0s 417us/step - loss: 0.0874 - acc: 0.9667\n",
      "Epoch 10/10\n",
      "120/120 [==============================] - 0s 667us/step - loss: 0.0707 - acc: 0.9750\n"
     ]
    },
    {
     "data": {
      "text/plain": [
       "<tensorflow.python.keras.callbacks.History at 0x1c599080>"
      ]
     },
     "execution_count": 151,
     "metadata": {},
     "output_type": "execute_result"
    }
   ],
   "source": [
    "#train the model\n",
    "model.fit(train_data,train_labels, epochs=10, batch_size =10)"
   ]
  },
  {
   "cell_type": "code",
   "execution_count": 152,
   "metadata": {},
   "outputs": [
    {
     "name": "stdout",
     "output_type": "stream",
     "text": [
      "30/30 [==============================] - 1s 21ms/step\n",
      "Test accuracy: 0.9666666388511658\n"
     ]
    }
   ],
   "source": [
    "#Evaluating the model on test set\n",
    "test_loss, test_acc = model.evaluate(test_data, test_labels)\n",
    "\n",
    "print('Test accuracy:', test_acc)\n",
    "#higher train accuracy that test accuracy indicates the amount the model overfits the data"
   ]
  },
  {
   "cell_type": "code",
   "execution_count": 153,
   "metadata": {},
   "outputs": [
    {
     "data": {
      "text/plain": [
       "array([2.7292182e-07, 3.5119098e-01, 6.4880878e-01], dtype=float32)"
      ]
     },
     "execution_count": 153,
     "metadata": {},
     "output_type": "execute_result"
    }
   ],
   "source": [
    "#Making predictions on test set\n",
    "predictions = model.predict(test_data)\n",
    "predictions[4]"
   ]
  },
  {
   "cell_type": "markdown",
   "metadata": {},
   "source": [
    "A prediction is an array of 3 numbers. These describe the \"confidence\" of the model that the image corresponds to each of the 3 different labels. We can see which label has the highest confidence value"
   ]
  },
  {
   "cell_type": "code",
   "execution_count": 154,
   "metadata": {},
   "outputs": [
    {
     "data": {
      "text/plain": [
       "2"
      ]
     },
     "execution_count": 154,
     "metadata": {},
     "output_type": "execute_result"
    }
   ],
   "source": [
    "np.argmax(predictions[4])"
   ]
  },
  {
   "cell_type": "code",
   "execution_count": 155,
   "metadata": {},
   "outputs": [
    {
     "data": {
      "text/plain": [
       "2"
      ]
     },
     "execution_count": 155,
     "metadata": {},
     "output_type": "execute_result"
    }
   ],
   "source": [
    "#Verifying that the prediction matches the test label...and yes it does\n",
    "test_labels.iloc[4]"
   ]
  },
  {
   "cell_type": "markdown",
   "metadata": {},
   "source": [
    "<b>End of notebook</b><br>\n",
    "<b>Thanks for reading!<b>"
   ]
  }
 ],
 "metadata": {
  "kernelspec": {
   "display_name": "Python [conda env:tensorflow]",
   "language": "python",
   "name": "conda-env-tensorflow-py"
  },
  "language_info": {
   "codemirror_mode": {
    "name": "ipython",
    "version": 3
   },
   "file_extension": ".py",
   "mimetype": "text/x-python",
   "name": "python",
   "nbconvert_exporter": "python",
   "pygments_lexer": "ipython3",
   "version": "3.5.5"
  }
 },
 "nbformat": 4,
 "nbformat_minor": 2
}
